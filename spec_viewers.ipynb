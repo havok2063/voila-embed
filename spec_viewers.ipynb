{
 "cells": [
  {
   "cell_type": "code",
   "execution_count": 6,
   "metadata": {},
   "outputs": [],
   "source": [
    "import bqplot\n",
    "import os\n",
    "from bqplot_image_gl import ImageGL\n",
    "from astropy.io import fits\n",
    "from astropy.visualization import PercentileInterval\n",
    "from bqplot import Figure, LinearScale, Axis, ColorScale\n",
    "from bqplot import pyplot as plt\n",
    "from bqplot import Toolbar\n",
    "import numpy as np\n",
    "import ipyvuetify as v\n",
    "from ipywidgets import Layout\n",
    "import ipywidgets as widgets\n",
    "import traitlets\n",
    "from astroquery.mast import Observations\n",
    "import requests\n",
    "from io import BytesIO"
   ]
  },
  {
   "cell_type": "code",
   "execution_count": 7,
   "metadata": {},
   "outputs": [
    {
     "data": {
      "application/vnd.jupyter.widget-view+json": {
       "model_id": "fb6c120561e5421881c566698e28d5b9",
       "version_major": 2,
       "version_minor": 0
      },
      "text/plain": [
       "Output()"
      ]
     },
     "metadata": {},
     "output_type": "display_data"
    }
   ],
   "source": [
    "# this is a widget for debugging\n",
    "out = widgets.Output()\n",
    "out.add_traits(_metadata=traitlets.Dict(default_value={'mount_id': 'out'}).tag(sync=True))\n",
    "out"
   ]
  },
  {
   "cell_type": "code",
   "execution_count": 8,
   "metadata": {},
   "outputs": [],
   "source": [
    "# set the STIS targets for demo \n",
    "targets = ['NGC346', 'SN2001EP']\n",
    "obsid = ['odg602060', 'o6gl37030']\n",
    "tozip = list(zip(targets, obsid))"
   ]
  },
  {
   "cell_type": "code",
   "execution_count": 9,
   "metadata": {},
   "outputs": [],
   "source": [
    "def get_xy(data):\n",
    "    ''' get the xy data '''\n",
    "    wave = data['WAVELENGTH']\n",
    "    flux = data['FLUX']\n",
    "    return wave, flux"
   ]
  },
  {
   "cell_type": "code",
   "execution_count": 10,
   "metadata": {},
   "outputs": [],
   "source": [
    "def create_spec1d(x, y):\n",
    "    ''' create a bqplot line chart for a 1d spectrum '''\n",
    "    fig = plt.figure(title='Spectrum 1d')\n",
    "    p = plt.plot(x, y)\n",
    "    fig.layout.width = 'auto'\n",
    "    fig.layout.height = 'auto'\n",
    "    fig.layout.min_height = '400px' # so it shows nicely in the notebook\n",
    "    return fig, p"
   ]
  },
  {
   "cell_type": "code",
   "execution_count": 11,
   "metadata": {},
   "outputs": [],
   "source": [
    "def create_spec2d_heatmap(data):\n",
    "    ''' create a 2d spectrum view as a bqplot Heatmap'''\n",
    "    # trim the data to 95% of values\n",
    "    i = PercentileInterval(95)\n",
    "    limdata = i(data)\n",
    "\n",
    "    # create the heatmap\n",
    "    spec2d = plt.figure(padding_y=0)\n",
    "    plt.scales(scales={'color': ColorScale(scheme='Greys', reverse=True)})\n",
    "    axes_options = {'color': {'visible': False}}\n",
    "    heat = plt.heatmap(limdata, axes_options=axes_options)\n",
    "    return spec2d, heat"
   ]
  },
  {
   "cell_type": "code",
   "execution_count": 12,
   "metadata": {},
   "outputs": [],
   "source": [
    "def create_cutout(data, target=None):\n",
    "    ''' create image cutout as bqplot Heatmap '''\n",
    "    aspect_ratio = data.shape[1] / data.shape[0]\n",
    "    img = plt.figure(title='Src {0}'.format(target), layout=Layout(width='500px', height='500px'),\n",
    "                     min_aspect_ratio=aspect_ratio, \n",
    "                     max_aspect_ratio=aspect_ratio, padding_y=0)\n",
    "    plt.scales(scales={'color': ColorScale(scheme='Greys', reverse=True)})\n",
    "    axes_options = {'x': {'visible': False}, 'y': {'visible': False}, 'color': {'visible': False}}\n",
    "    p = plt.heatmap(data, axes_options=axes_options)\n",
    "    return img, p"
   ]
  },
  {
   "cell_type": "code",
   "execution_count": 13,
   "metadata": {},
   "outputs": [],
   "source": [
    "def retrieve_obs(targetid):\n",
    "    ''' retrieve observation of target using astroquery '''\n",
    "    try:\n",
    "        ot = Observations.query_criteria(objectname=targetid, project='HST', radius='0.5 arcmin', intentType='science')\n",
    "    except Exception:\n",
    "        return None\n",
    "    else:\n",
    "        dp = Observations.get_product_list(ot)\n",
    "        return dp\n",
    "    \n",
    "def get_type(dp, datatype, groupby=None):\n",
    "    ''' filter data product list by image/spectrum types '''\n",
    "    sub = ['RAW'] if datatype == 'image' else ['X1D', 'X2D']\n",
    "    fp = Observations.filter_products(dp, productSubGroupDescription=sub, dataproduct_type=datatype)\n",
    "    g = fp.group_by('obs_id')\n",
    "    if groupby:\n",
    "        g = g.groups[g.groups.keys['obs_id']==groupby]\n",
    "    return g\n",
    "\n",
    "def get_uri(table):\n",
    "    ''' extract the data URI from the data products table '''\n",
    "    return table['dataURI'].tolist()\n",
    "\n",
    "def get_remote_hdu(uri):\n",
    "    ''' get a remote HDU of an observation '''\n",
    "    url = 'https://mast.stsci.edu/api/v0.1/Download/file?uri={0}'.format(uri)\n",
    "    r = requests.get(url)\n",
    "    hdu = fits.open(BytesIO(r.content))\n",
    "    return hdu\n",
    "\n",
    "def get_img_cut(im, size=50):\n",
    "    ''' cut out portion of image data for demo purposes '''\n",
    "    xcen, ycen = int(im.header['CRPIX1']), int(im.header['CRPIX2'])\n",
    "    return im.data[xcen-size:xcen+size,ycen-size:ycen+size]\n",
    "\n",
    "def get_observation(target, obs):\n",
    "    ''' get image cutout, 1d and 2d spectrum '''\n",
    "    dp=retrieve_obs(target)\n",
    "    if not dp:\n",
    "        raise RuntimeError('No observations found for {0}'.format(target))\n",
    "\n",
    "    cut = get_remote_hdu(get_uri(get_type(dp, 'image'))[0])\n",
    "    cutimg = get_img_cut(cut[1], size=100)\n",
    "    x1d, x2d = [get_remote_hdu(u) for u in get_uri(get_type(dp, 'spectrum', groupby=obs))]\n",
    "    return cutimg, x1d, x2d"
   ]
  },
  {
   "cell_type": "code",
   "execution_count": 14,
   "metadata": {},
   "outputs": [],
   "source": [
    "@out.capture()\n",
    "def update_data(selected_src):\n",
    "\n",
    "    # get the target STIS observation\n",
    "    targ, obs = selected_src\n",
    "    cut, hdu1d, hdu2d = get_observation(targ, obs)\n",
    "    print('target', targ, obs, cut.shape)\n",
    "    \n",
    "    # update spec1d data\n",
    "    wave, flux = get_xy(hdu1d[1].data)\n",
    "    fig, plot = create_spec1d(wave, flux)\n",
    "\n",
    "    spec2d, heat = create_spec2d_heatmap(hdu2d[1].data)\n",
    "    \n",
    "    img, image = create_cutout(cut, target=targ)\n",
    " \n",
    "    children = [\n",
    "            # load the histogram and slider content\n",
    "            v.Col(xs12=True, lg6=True, xl4=True, children=[\n",
    "                img\n",
    "            ]),\n",
    "\n",
    "            # load the line plot content\n",
    "            v.Col(xs12=True, xl4=True, children=[\n",
    "                spec2d\n",
    "            ]),\n",
    "            # load the line plot content\n",
    "            v.Col(xs12=True, xl4=True, children=[\n",
    "                fig\n",
    "            ]),       \n",
    "    ]\n",
    "    row.children = children"
   ]
  },
  {
   "cell_type": "code",
   "execution_count": 15,
   "metadata": {},
   "outputs": [],
   "source": [
    "@out.capture()\n",
    "def update_data_handler(widget, event, data):\n",
    "    # get new data from selected target\n",
    "    print('targets', targets, data)\n",
    "    selected_src = tozip[targets.index(data)]\n",
    "    print('selected_src', selected_src)\n",
    "    update_data(selected_src)"
   ]
  },
  {
   "cell_type": "code",
   "execution_count": 16,
   "metadata": {},
   "outputs": [],
   "source": [
    "row = v.Row(_metadata={'mount_id': 'protospec'}, dense=True, row=True, wrap=True, align_center=True, children=['Loading..'])\n",
    "row.on_event('change', update_data_handler)"
   ]
  },
  {
   "cell_type": "code",
   "execution_count": 17,
   "metadata": {},
   "outputs": [
    {
     "data": {
      "application/vnd.jupyter.widget-view+json": {
       "model_id": "991f2cb2fbdd4b50afc15529d4705125",
       "version_major": 2,
       "version_minor": 0
      },
      "text/plain": [
       "AppBar(absolute=True, app=True, children=[Col(children=[Select(dense=True, items=['NGC346', 'SN2001EP'], label…"
      ]
     },
     "metadata": {},
     "output_type": "display_data"
    }
   ],
   "source": [
    "# create an app bar to load a select button\n",
    "btn1 = v.Select(dense=True, outlined=True, label='Target', items=targets)\n",
    "btn1.on_event('change', update_data_handler)\n",
    "v.AppBar(_metadata={'mount_id': 'appbar'}, app=True, absolute=True, children=[\n",
    "    v.Col(class_='col-md-2 col-lg-2', children=[btn1])\n",
    "])"
   ]
  },
  {
   "cell_type": "code",
   "execution_count": null,
   "metadata": {},
   "outputs": [],
   "source": []
  }
 ],
 "metadata": {
  "kernelspec": {
   "display_name": "Python 3",
   "language": "python",
   "name": "python3"
  },
  "language_info": {
   "codemirror_mode": {
    "name": "ipython",
    "version": 3
   },
   "file_extension": ".py",
   "mimetype": "text/x-python",
   "name": "python",
   "nbconvert_exporter": "python",
   "pygments_lexer": "ipython3",
   "version": "3.8.1"
  }
 },
 "nbformat": 4,
 "nbformat_minor": 2
}
