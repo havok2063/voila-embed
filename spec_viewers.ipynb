{
 "cells": [
  {
   "cell_type": "code",
   "execution_count": 11,
   "metadata": {},
   "outputs": [],
   "source": [
    "import bqplot\n",
    "import os\n",
    "from bqplot_image_gl import ImageGL\n",
    "from astropy.io import fits\n",
    "from astropy.visualization import PercentileInterval\n",
    "from bqplot import Figure, LinearScale, Axis, ColorScale\n",
    "from bqplot import pyplot as plt\n",
    "from bqplot import Toolbar\n",
    "import numpy as np\n",
    "import ipyvuetify as v\n",
    "from ipywidgets import Layout\n",
    "import ipywidgets as widgets\n",
    "import traitlets\n"
   ]
  },
  {
   "cell_type": "code",
   "execution_count": 12,
   "metadata": {},
   "outputs": [
    {
     "data": {
      "application/vnd.jupyter.widget-view+json": {
       "model_id": "5054c4048ea349058cfde99aeace0a01",
       "version_major": 2,
       "version_minor": 0
      },
      "text/plain": [
       "Output()"
      ]
     },
     "metadata": {},
     "output_type": "display_data"
    }
   ],
   "source": [
    "# this is a widget for debugging\n",
    "out = widgets.Output()\n",
    "out.add_traits(_metadata=traitlets.Dict(default_value={'mount_id': 'out'}).tag(sync=True))\n",
    "out"
   ]
  },
  {
   "cell_type": "code",
   "execution_count": 13,
   "metadata": {},
   "outputs": [],
   "source": [
    "jwst_sources = [227, 482, 546, 1186]\n",
    "selected_src = jwst_sources[np.random.randint(0,3)]\n",
    "def prep_data(source):\n",
    "    ''' prepare test data '''\n",
    "    path = '/Users/bcherinka/Work/mosviz/data'\n",
    "    path1d = os.path.join(path, 'jwst_level3_NIRSpec/jw95065_{0}_nrs_msaspec_barshadow_x1d.fits'.format(source))\n",
    "    path2d = os.path.join(path, 'jwst_level3_NIRSpec/jw95065_{0}_nrs_msaspec_barshadow_s2d.fits'.format(source))\n",
    "    pathimg = os.path.join(path, 'jwst_level3_NIRSpec/cutouts/SOURCEID_{0}.fits'.format(source))\n",
    "    hdu1d = fits.open(path1d)\n",
    "    hdu2d = fits.open(path2d)\n",
    "    cut = fits.open(pathimg)\n",
    "    return hdu1d, hdu2d, cut"
   ]
  },
  {
   "cell_type": "code",
   "execution_count": 14,
   "metadata": {},
   "outputs": [],
   "source": [
    "hdu1d, hdu, cut = prep_data(selected_src)"
   ]
  },
  {
   "cell_type": "code",
   "execution_count": 15,
   "metadata": {},
   "outputs": [],
   "source": [
    "hdu1d.info()"
   ]
  },
  {
   "cell_type": "code",
   "execution_count": 16,
   "metadata": {},
   "outputs": [],
   "source": [
    "hdu1d[1].data"
   ]
  },
  {
   "cell_type": "code",
   "execution_count": 17,
   "metadata": {},
   "outputs": [],
   "source": [
    "def get_xy(data):\n",
    "    ''' get the xy data '''\n",
    "    wave = data['WAVELENGTH']\n",
    "    flux = data['FLUX']\n",
    "    return wave, flux\n",
    "wave, flux = get_xy(hdu1d[1].data)"
   ]
  },
  {
   "cell_type": "code",
   "execution_count": 18,
   "metadata": {},
   "outputs": [],
   "source": [
    " hdu.info()"
   ]
  },
  {
   "cell_type": "code",
   "execution_count": 19,
   "metadata": {},
   "outputs": [],
   "source": [
    "def create_spec1d(x, y):\n",
    "    ''' create a bqplot line chart for a 1d spectrum '''\n",
    "    fig = plt.figure('Spectrum 1d')\n",
    "    p = plt.plot(x, y)\n",
    "    fig.layout.width = 'auto'\n",
    "    fig.layout.height = 'auto'\n",
    "    fig.layout.min_height = '400px' # so it shows nicely in the notebook\n",
    "    return fig, p"
   ]
  },
  {
   "cell_type": "code",
   "execution_count": 20,
   "metadata": {},
   "outputs": [
    {
     "ename": "NameError",
     "evalue": "name 'wave' is not defined",
     "output_type": "error",
     "traceback": [
      "\u001b[0;31m---------------------------------------------------------------------------\u001b[0m",
      "\u001b[0;31mNameError\u001b[0m                                 Traceback (most recent call last)",
      "\u001b[0;32m<ipython-input-20-4d4c5ad0a0a0>\u001b[0m in \u001b[0;36m<module>\u001b[0;34m\u001b[0m\n\u001b[0;32m----> 1\u001b[0;31m \u001b[0mfig\u001b[0m\u001b[0;34m,\u001b[0m \u001b[0mplot\u001b[0m \u001b[0;34m=\u001b[0m \u001b[0mcreate_spec1d\u001b[0m\u001b[0;34m(\u001b[0m\u001b[0mwave\u001b[0m\u001b[0;34m,\u001b[0m \u001b[0mflux\u001b[0m\u001b[0;34m)\u001b[0m\u001b[0;34m\u001b[0m\u001b[0;34m\u001b[0m\u001b[0m\n\u001b[0m\u001b[1;32m      2\u001b[0m \u001b[0mfig\u001b[0m\u001b[0;34m\u001b[0m\u001b[0;34m\u001b[0m\u001b[0m\n",
      "\u001b[0;31mNameError\u001b[0m: name 'wave' is not defined"
     ]
    }
   ],
   "source": [
    "fig, plot = create_spec1d(wave, flux)\n",
    "fig"
   ]
  },
  {
   "cell_type": "code",
   "execution_count": 17,
   "metadata": {},
   "outputs": [],
   "source": [
    "def create_spec2d_heatmap(data):\n",
    "    ''' create a 2d spectrum view as a bqplot Heatmap'''\n",
    "    # trim the data to 95% of values\n",
    "    i = PercentileInterval(95)\n",
    "    limdata = i(data)\n",
    "\n",
    "    # create the heatmap\n",
    "    spec2d = plt.figure(padding_y=0)\n",
    "    plt.scales(scales={'color': ColorScale(scheme='Greys', reverse=True)})\n",
    "    axes_options = {'color': {'visible': False}}\n",
    "    heat = plt.heatmap(limdata, axes_options=axes_options)\n",
    "    return spec2d, heat"
   ]
  },
  {
   "cell_type": "code",
   "execution_count": 18,
   "metadata": {},
   "outputs": [],
   "source": [
    "def create_spec2d_image(data):\n",
    "    ''' create a 2d spectrum view as a bqplot ImageGL'''\n",
    "    scale_x = LinearScale()\n",
    "    scale_y = LinearScale()\n",
    "    scales = {'x': scale_x,\n",
    "              'y': scale_y}\n",
    "    axis_x = Axis(scale=scale_x, label='x')\n",
    "    axis_y = Axis(scale=scale_y, label='y', orientation='vertical')\n",
    "\n",
    "    spec2d = Figure(scales=scales, axes=[axis_x, axis_y])\n",
    "\n",
    "    scales_image = {'x': scale_x,\n",
    "                    'y': scale_y,\n",
    "                    'image': ColorScale(scheme='viridis', min=0, max=3)}\n",
    "\n",
    "    image = ImageGL(image=hdu[1].data, scales=scales_image)\n",
    "\n",
    "    spec2d.marks = (image,)\n",
    "    return spec2d"
   ]
  },
  {
   "cell_type": "code",
   "execution_count": 19,
   "metadata": {},
   "outputs": [
    {
     "data": {
      "application/vnd.jupyter.widget-view+json": {
       "model_id": "64e5d0b4f5e44c9a8cdb19d86e595c11",
       "version_major": 2,
       "version_minor": 0
      },
      "text/plain": [
       "Figure(axes=[ColorAxis(scale=ColorScale(reverse=True, scheme='Greys'), visible=False), Axis(scale=LinearScale(…"
      ]
     },
     "metadata": {},
     "output_type": "display_data"
    }
   ],
   "source": [
    "# 2d spectra image as heatmap\n",
    "spec2d, heat = create_spec2d_heatmap(hdu[1].data)\n",
    "spec2d"
   ]
  },
  {
   "cell_type": "code",
   "execution_count": 26,
   "metadata": {},
   "outputs": [],
   "source": [
    "def create_cutout(data, target=None):\n",
    "    ''' create image cutout as bqplot Heatmap '''\n",
    "    aspect_ratio = data.shape[1] / data.shape[0]\n",
    "    img = plt.figure(title='Src {0}'.format(target), layout=Layout(width='500px', height='500px'),\n",
    "                     min_aspect_ratio=aspect_ratio, \n",
    "                     max_aspect_ratio=aspect_ratio, padding_y=0)\n",
    "    plt.scales(scales={'color': ColorScale(scheme='Greys', reverse=True)})\n",
    "    axes_options = {'x': {'visible': False}, 'y': {'visible': False}, 'color': {'visible': False}}\n",
    "    p = plt.heatmap(data, axes_options=axes_options)\n",
    "    return img, p"
   ]
  },
  {
   "cell_type": "code",
   "execution_count": 27,
   "metadata": {},
   "outputs": [
    {
     "data": {
      "application/vnd.jupyter.widget-view+json": {
       "model_id": "bd0254d2b0ef4ad99750f27c37e0d100",
       "version_major": 2,
       "version_minor": 0
      },
      "text/plain": [
       "Figure(axes=[ColorAxis(scale=ColorScale(reverse=True, scheme='Greys'), visible=False), Axis(scale=LinearScale(…"
      ]
     },
     "metadata": {},
     "output_type": "display_data"
    }
   ],
   "source": [
    "img, image = create_cutout(cut[0].data, target=selected_src)\n",
    "img"
   ]
  },
  {
   "cell_type": "code",
   "execution_count": 4,
   "metadata": {},
   "outputs": [],
   "source": [
    "@out.capture()\n",
    "def update_data(widget, event, data):\n",
    "    #selected_src = jwst_sources[np.random.randint(0,3)]\n",
    "    # get new data from selected target\n",
    "    selected_src = int(data)\n",
    "    hdu1d, hdu, cut = prep_data(selected_src)\n",
    "\n",
    "    # update spec1d data\n",
    "    wave, flux = get_xy(hdu1d[1].data)\n",
    "    plot.y = flux\n",
    "    plot.x = wave\n",
    "\n",
    "    # update spec2d data\n",
    "    i = PercentileInterval(95)\n",
    "    heat.color = i(hdu[1].data)\n",
    "    print('selected source', selected_src)\n",
    "    print('old image title', img.title)\n",
    "    # update image cutout data\n",
    "    image.color = cut[0].data\n",
    "    img.title = 'Src {0}'.format(selected_src)\n",
    "    print('new image title', img.title)\n"
   ]
  },
  {
   "cell_type": "code",
   "execution_count": 73,
   "metadata": {},
   "outputs": [],
   "source": [
    "# this class is needed to allow front-end defined components to send events to notebook defined components\n",
    "# class UpdateRow(v.Row):\n",
    "#     def __init__(self, **kwargs):\n",
    "#         super().__init__(**kwargs)\n",
    "#         self.on_event('change', update_data)    "
   ]
  },
  {
   "cell_type": "code",
   "execution_count": 74,
   "metadata": {},
   "outputs": [
    {
     "data": {
      "application/vnd.jupyter.widget-view+json": {
       "model_id": "8e3969954a1f4010b9dc6562119b5063",
       "version_major": 2,
       "version_minor": 0
      },
      "text/plain": [
       "UpdateRow(children=[Col(children=[Figure(axes=[ColorAxis(scale=ColorScale(reverse=True, scheme='Greys'), visib…"
      ]
     },
     "metadata": {},
     "output_type": "display_data"
    }
   ],
   "source": [
    "# create the Vuetify layout using v.Row and v.Col (Vuetify API v2.0 spec - replaces v.Layout and v.Flex, respectively)\n",
    "row = v.Row(_metadata={'mount_id': 'protospec'}, dense=True, row=True, wrap=True, align_center=True, children=[\n",
    "\n",
    "    # load the histogram and slider content\n",
    "    v.Col(xs12=True, lg6=True, xl4=True, children=[\n",
    "        img\n",
    "    ]),\n",
    "\n",
    "    # load the line plot content\n",
    "    v.Col(xs12=True, xl4=True, children=[\n",
    "        spec2d\n",
    "    ]),\n",
    "    # load the line plot content\n",
    "    v.Col(xs12=True, xl4=True, children=[\n",
    "        fig\n",
    "    ]),       \n",
    "])\n",
    "# attach a change event so the Layout to update the data of all three components\n",
    "row.on_event('change', update_data)"
   ]
  },
  {
   "cell_type": "code",
   "execution_count": 31,
   "metadata": {},
   "outputs": [
    {
     "data": {
      "application/vnd.jupyter.widget-view+json": {
       "model_id": "d457c67649ed4b7f9aa68ac1aeed7451",
       "version_major": 2,
       "version_minor": 0
      },
      "text/plain": [
       "AppBar(absolute=True, app=True, children=[Col(children=[Select(dense=True, items=[227, 482, 546, 1186], label=…"
      ]
     },
     "metadata": {},
     "output_type": "display_data"
    }
   ],
   "source": [
    "# create an app bar to load a select button\n",
    "\n",
    "#btn1 = v.Btn(color='primary', children=['Choose Data'])\n",
    "#btn1.on_event('click', update_data)\n",
    "\n",
    "btn1 = v.Select(dense=True, outlined=True, label='Target', items=jwst_sources)\n",
    "btn1.on_event('change', update_data)\n",
    "v.AppBar(_metadata={'mount_id': 'appbar'}, app=True, absolute=True, children=[\n",
    "    v.Col(class_='col-md-2 col-lg-2', children=[btn1])\n",
    "])"
   ]
  },
  {
   "cell_type": "code",
   "execution_count": 6,
   "metadata": {},
   "outputs": [
    {
     "name": "stdout",
     "output_type": "stream",
     "text": [
      "source None\n"
     ]
    }
   ],
   "source": [
    "init_source = None\n",
    "def set_source(widget, event, data):\n",
    "    global init_source\n",
    "    init_source = data\n",
    "    print('init source', init_source)\n",
    "\n",
    "print('source', init_source)"
   ]
  },
  {
   "cell_type": "code",
   "execution_count": 7,
   "metadata": {},
   "outputs": [
    {
     "data": {
      "application/vnd.jupyter.widget-view+json": {
       "model_id": "2eaf2bb746aa4d01a2dd33c712b6260a",
       "version_major": 2,
       "version_minor": 0
      },
      "text/plain": [
       "Event(children=['target: None'])"
      ]
     },
     "metadata": {},
     "output_type": "display_data"
    }
   ],
   "source": [
    "class Event(v.Chip):\n",
    "    @out.capture()\n",
    "    def __init__(self, **kwargs):\n",
    "        super().__init__(**kwargs)\n",
    "        #self.class_ = 'px-2'\n",
    "        #self.on_msg(self.handle_custom_message)\n",
    "        \n",
    "        #self.nr_of_clicks = 0;\n",
    "#         def on_c(widget, evemt, data):\n",
    "#             self.nr_of_clicks += 1\n",
    "#             self.children = [f'clicks {self.nr_of_clicks}']\n",
    "\n",
    "        self.on_event('change', update_data)\n",
    "\n",
    "#     def handle_custom_message(self, _, content, buffers):\n",
    "#         if 'type' in content.keys() and content['type'] == 'custom':\n",
    "#             self.children=[f'{content[\"time\"]}']\n",
    "\n",
    "Event(_metadata={'mount_id': 'init_target'}, children=[f'target: {init_source}'])\n"
   ]
  },
  {
   "cell_type": "code",
   "execution_count": null,
   "metadata": {},
   "outputs": [],
   "source": []
  }
 ],
 "metadata": {
  "kernelspec": {
   "display_name": "Python 3",
   "language": "python",
   "name": "python3"
  },
  "language_info": {
   "codemirror_mode": {
    "name": "ipython",
    "version": 3
   },
   "file_extension": ".py",
   "mimetype": "text/x-python",
   "name": "python",
   "nbconvert_exporter": "python",
   "pygments_lexer": "ipython3",
   "version": "3.7.2"
  }
 },
 "nbformat": 4,
 "nbformat_minor": 2
}
