{
 "cells": [
  {
   "cell_type": "markdown",
   "metadata": {},
   "source": [
    "This example notebook uses bqplot and ipyvuetify to create an embeddable component into a Vue app"
   ]
  },
  {
   "cell_type": "code",
   "execution_count": 1,
   "metadata": {},
   "outputs": [],
   "source": [
    "import ipyvuetify as v"
   ]
  },
  {
   "cell_type": "markdown",
   "metadata": {},
   "source": [
    "## basic example\n",
    "creates simple ipywidget slider and adds a mount_id: my-widget"
   ]
  },
  {
   "cell_type": "code",
   "execution_count": 2,
   "metadata": {},
   "outputs": [
    {
     "data": {
      "application/vnd.jupyter.widget-view+json": {
       "model_id": "110306b5e78c4b71be93e87d635b8401",
       "version_major": 2,
       "version_minor": 0
      },
      "text/plain": [
       "VBox(children=(IntSlider(value=100, max=200), Text(value='10000')))"
      ]
     },
     "metadata": {},
     "output_type": "display_data"
    }
   ],
   "source": [
    "from ipywidgets import IntSlider, Text, VBox\n",
    "from IPython.display import display\n",
    "\n",
    "s = IntSlider(max=200, value=100, _metadata={'mount_id': 'my-widget'})\n",
    "t = Text()\n",
    "\n",
    "def update_text(change=None):\n",
    "    t.value = str(s.value ** 2)\n",
    "\n",
    "s.observe(update_text, names='value')\n",
    "update_text()\n",
    "display(VBox([s, t]))"
   ]
  },
  {
   "cell_type": "markdown",
   "metadata": {},
   "source": [
    "## creates histogram as matplotlib figure"
   ]
  },
  {
   "cell_type": "code",
   "execution_count": 2,
   "metadata": {},
   "outputs": [
    {
     "data": {
      "application/vnd.jupyter.widget-view+json": {
       "model_id": "0b97458fd7964ab6bbf3f05d79a09af4",
       "version_major": 2,
       "version_minor": 0
      },
      "text/plain": [
       "Figure(axes=[Axis(orientation='vertical', scale=LinearScale()), Axis(scale=LinearScale(max=15.0, min=-148.0))]…"
      ]
     },
     "metadata": {},
     "output_type": "display_data"
    }
   ],
   "source": [
    "import ipywidgets as widgets\n",
    "import numpy as np\n",
    "from bqplot import pyplot as plt\n",
    "import bqplot\n",
    "\n",
    "\n",
    "n = 200\n",
    "\n",
    "x = np.linspace(0.0, 10.0, n)\n",
    "y = np.cumsum(np.random.randn(n)*10).astype(int)\n",
    "\n",
    "fig = plt.figure( title='Histogram')\n",
    "np.random.seed(0)\n",
    "hist = plt.hist(y, bins=25)\n",
    "hist.scales['sample'].min = float(y.min())\n",
    "hist.scales['sample'].max = float(y.max())\n",
    "fig.layout.width = 'auto'\n",
    "fig.layout.height = 'auto'\n",
    "fig.layout.min_height = '300px' # so it shows nicely in the notebook\n",
    "fig"
   ]
  },
  {
   "cell_type": "markdown",
   "metadata": {},
   "source": [
    "## creates slider for histogram"
   ]
  },
  {
   "cell_type": "code",
   "execution_count": 3,
   "metadata": {},
   "outputs": [
    {
     "data": {
      "application/vnd.jupyter.widget-view+json": {
       "model_id": "67538c222c8a4592ae1b071245664680",
       "version_major": 2,
       "version_minor": 0
      },
      "text/plain": [
       "Slider(class_='px-4', thumb_label='always', v_model=30)"
      ]
     },
     "metadata": {},
     "output_type": "display_data"
    }
   ],
   "source": [
    "slider = v.Slider(thumb_label='always', class_=\"px-4\", v_model=30)\n",
    "widgets.link((slider, 'v_model'), (hist, 'bins'))\n",
    "slider"
   ]
  },
  {
   "cell_type": "markdown",
   "metadata": {},
   "source": [
    "## creates line plot as matplotlib figure"
   ]
  },
  {
   "cell_type": "code",
   "execution_count": 4,
   "metadata": {},
   "outputs": [
    {
     "data": {
      "application/vnd.jupyter.widget-view+json": {
       "model_id": "44e9169fefec4b1e917edd19fd719586",
       "version_major": 2,
       "version_minor": 0
      },
      "text/plain": [
       "Figure(axes=[Axis(scale=LinearScale()), Axis(orientation='vertical', scale=LinearScale())], fig_margin={'top':…"
      ]
     },
     "metadata": {},
     "output_type": "display_data"
    }
   ],
   "source": [
    "fig2 = plt.figure( title='Line Chart')\n",
    "np.random.seed(0)\n",
    "p = plt.plot(x, y)\n",
    "\n",
    "fig2.layout.width = 'auto'\n",
    "fig2.layout.height = 'auto'\n",
    "fig2.layout.min_height = '300px' # so it shows nicely in the notebook\n",
    "fig2"
   ]
  },
  {
   "cell_type": "markdown",
   "metadata": {},
   "source": [
    "## adds brush linking to line plot and connects to histogram"
   ]
  },
  {
   "cell_type": "code",
   "execution_count": 5,
   "metadata": {},
   "outputs": [],
   "source": [
    "brushintsel = bqplot.interacts.BrushIntervalSelector(scale=p.scales['x'])\n",
    "\n",
    "def update_range(*args):\n",
    "    if brushintsel.selected is not None and brushintsel.selected.shape == (2,):\n",
    "        mask = (x > brushintsel.selected[0]) & (x < brushintsel.selected[1])\n",
    "        hist.sample = y[mask]\n",
    "    \n",
    "brushintsel.observe(update_range, 'selected')\n",
    "fig2.interaction = brushintsel"
   ]
  },
  {
   "cell_type": "markdown",
   "metadata": {},
   "source": [
    "## creates vue component for display\n",
    "uses ipyvuetify (maps ipywidgets to vuetify components). create containers/layouts etc and load content we want"
   ]
  },
  {
   "cell_type": "code",
   "execution_count": 6,
   "metadata": {},
   "outputs": [
    {
     "data": {
      "application/vnd.jupyter.widget-view+json": {
       "model_id": "d92e69e59c4a4d55bb389a658496e304",
       "version_major": 2,
       "version_minor": 0
      },
      "text/plain": [
       "Tabs(children=[Tab(children=['Tab1']), Tab(children=['Tab2']), TabItem(children=[Layout(align_center=True, chi…"
      ]
     },
     "metadata": {},
     "output_type": "display_data"
    }
   ],
   "source": [
    "v.Tabs(_metadata={'mount_id': 'content-main'}, children=[\n",
    "    # create two tabs\n",
    "    v.Tab(children=['Tab1']),\n",
    "    v.Tab(children=['Tab2']),\n",
    "\n",
    "    # tab 1 content\n",
    "    v.TabItem(children=[\n",
    "        v.Layout(row=True, wrap=True, align_center=True, children=[\n",
    "\n",
    "            # load the histogram and slider content\n",
    "            v.Flex(xs12=True, lg6=True, xl4=True, children=[\n",
    "                fig, slider\n",
    "            ]),\n",
    "\n",
    "            # load the line plot content\n",
    "            v.Flex(xs12=True, xl4=True, children=[\n",
    "                fig2\n",
    "            ]),\n",
    "        ])\n",
    "    ]),\n",
    "\n",
    "    # tab 2 content\n",
    "    v.TabItem(children=[\n",
    "        v.Container(children=['Lorum ipsum'])\n",
    "    ])\n",
    "])"
   ]
  },
  {
   "cell_type": "code",
   "execution_count": null,
   "metadata": {},
   "outputs": [],
   "source": []
  }
 ],
 "metadata": {
  "kernelspec": {
   "display_name": "Python 3",
   "language": "python",
   "name": "python3"
  },
  "language_info": {
   "codemirror_mode": {
    "name": "ipython",
    "version": 3
   },
   "file_extension": ".py",
   "mimetype": "text/x-python",
   "name": "python",
   "nbconvert_exporter": "python",
   "pygments_lexer": "ipython3",
   "version": "3.8.0"
  }
 },
 "nbformat": 4,
 "nbformat_minor": 2
}
