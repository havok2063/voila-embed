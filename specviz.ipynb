{
 "cells": [
  {
   "cell_type": "code",
   "execution_count": 16,
   "metadata": {},
   "outputs": [],
   "source": [
    "import os\n",
    "import ipyvuetify as v\n",
    "from astropy.utils.data import download_file\n",
    "import ipywidgets as widgets\n",
    "import traitlets\n",
    "from jdaviz.app import Application"
   ]
  },
  {
   "cell_type": "code",
   "execution_count": 17,
   "metadata": {},
   "outputs": [
    {
     "data": {
      "application/vnd.jupyter.widget-view+json": {
       "model_id": "d4da6d676ebe4b649ee6169bca16cdcb",
       "version_major": 2,
       "version_minor": 0
      },
      "text/plain": [
       "Application(components={'g-viewer-tab': '<template>\\n  <component v-bind:is=\"stack.container\">\\n    <g-viewer-…"
      ]
     },
     "metadata": {},
     "output_type": "display_data"
    }
   ],
   "source": [
    "app = Application(configuration='specviz')\n",
    "app"
   ]
  },
  {
   "cell_type": "code",
   "execution_count": 12,
   "metadata": {
    "scrolled": true
   },
   "outputs": [],
   "source": [
    "# local = '/Users/bcherinka/Work/notebooks/datb/manga-7495-12704-LOGCUBE.fits'\n",
    "# remote = download_file('https://data.sdss.org/sas/dr15/manga/spectro/redux/v2_4_3/8485/stack/manga-8485-1901-LOGCUBE.fits.gz', cache=True)\n",
    "# jwstlocal = '/Users/bcherinka/Downloads/jw00626-o030_s00000_nirspec_f170lp-g235m_x1d.fits'"
   ]
  },
  {
   "cell_type": "code",
   "execution_count": 18,
   "metadata": {},
   "outputs": [
    {
     "data": {
      "application/vnd.jupyter.widget-view+json": {
       "model_id": "317e16219d7743b59a2847ec62c6df11",
       "version_major": 2,
       "version_minor": 0
      },
      "text/plain": [
       "Output()"
      ]
     },
     "metadata": {},
     "output_type": "display_data"
    }
   ],
   "source": [
    "# this is a widget for debugging\n",
    "out = widgets.Output()\n",
    "out.add_traits(_metadata=traitlets.Dict(default_value={'mount_id': 'out'}).tag(sync=True))\n",
    "out"
   ]
  },
  {
   "cell_type": "code",
   "execution_count": 19,
   "metadata": {},
   "outputs": [],
   "source": [
    "# set the jwst target sources and randomly select one to start with\n",
    "jwst_sources = [227, 482, 546, 1186]\n",
    "#selected_src = jwst_sources[np.random.randint(0,3)]\n",
    "\n",
    "@out.capture()\n",
    "def prep_data(source):\n",
    "    ''' prepare test data '''\n",
    "    path = os.getenv(\"JWST_VOILA_TEST_DATA\", os.path.abspath(os.curdir))\n",
    "    path1d = os.path.join(path, 'jwst_level3_NIRSpec/jw95065_{0}_nrs_msaspec_barshadow_x1d.fits'.format(source))\n",
    "    path2d = os.path.join(path, 'jwst_level3_NIRSpec/jw95065_{0}_nrs_msaspec_barshadow_s2d.fits'.format(source))\n",
    "    pathimg = os.path.join(path, 'jwst_level3_NIRSpec/cutouts/SOURCEID_{0}.fits'.format(source))\n",
    "    print('local data path', path)\n",
    "    print('local 1d path', path1d)\n",
    "    #print('local img path', pathimg)\n",
    "    return path1d"
   ]
  },
  {
   "cell_type": "code",
   "execution_count": 20,
   "metadata": {},
   "outputs": [],
   "source": [
    "@out.capture()\n",
    "def update_data_handler(widget, event, data):\n",
    "    # get new data from selected target\n",
    "    selected_src = int(data)\n",
    "    print('selected_src', selected_src)\n",
    "    #data = '/Users/bcherinka/Work/notebooks/datb/manga-7495-12704-LOGCUBE.fits'\n",
    "    data = prep_data(selected_src)\n",
    "    app.load_data(data)"
   ]
  },
  {
   "cell_type": "code",
   "execution_count": 21,
   "metadata": {},
   "outputs": [],
   "source": [
    "col = v.Col(xs12=True, lg6=True, xl4=True, children=[app])\n",
    "row = v.Row(_metadata={'mount_id': 'specviz'}, dense=True, row=True, wrap=True, align_center=True, children=[col])\n",
    "row.on_event('change', update_data_handler)"
   ]
  },
  {
   "cell_type": "code",
   "execution_count": null,
   "metadata": {},
   "outputs": [],
   "source": []
  },
  {
   "cell_type": "code",
   "execution_count": null,
   "metadata": {},
   "outputs": [],
   "source": []
  }
 ],
 "metadata": {
  "kernelspec": {
   "display_name": "Python 3",
   "language": "python",
   "name": "python3"
  },
  "language_info": {
   "codemirror_mode": {
    "name": "ipython",
    "version": 3
   },
   "file_extension": ".py",
   "mimetype": "text/x-python",
   "name": "python",
   "nbconvert_exporter": "python",
   "pygments_lexer": "ipython3",
   "version": "3.8.1"
  }
 },
 "nbformat": 4,
 "nbformat_minor": 4
}
